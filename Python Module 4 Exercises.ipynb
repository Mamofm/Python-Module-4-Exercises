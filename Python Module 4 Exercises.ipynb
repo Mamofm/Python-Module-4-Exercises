{
 "cells": [
  {
   "cell_type": "markdown",
   "metadata": {},
   "source": [
    "Exercise 1: Make an empty list and call it names"
   ]
  },
  {
   "cell_type": "code",
   "execution_count": 23,
   "metadata": {},
   "outputs": [],
   "source": [
    "names =[]"
   ]
  },
  {
   "cell_type": "markdown",
   "metadata": {},
   "source": [
    "Exercise 2: Make names filled with names of 5 people: Hannah, Victor, Sam, James, Sarah"
   ]
  },
  {
   "cell_type": "code",
   "execution_count": 24,
   "metadata": {},
   "outputs": [],
   "source": [
    "names.append(\"Hannah\")\n",
    "names.append(\"Victor\")\n",
    "names.append(\"Sam\")\n",
    "names.append(\"James\")\n",
    "names.append(\"Sarah\")"
   ]
  },
  {
   "cell_type": "markdown",
   "metadata": {},
   "source": [
    "Exercise 3: Make names sort in reverse. Print out the list using a for-loop"
   ]
  },
  {
   "cell_type": "code",
   "execution_count": 25,
   "metadata": {},
   "outputs": [
    {
     "name": "stdout",
     "output_type": "stream",
     "text": [
      "Victor\n",
      "Sarah\n",
      "Sam\n",
      "James\n",
      "Hannah\n"
     ]
    }
   ],
   "source": [
    "names.sort (reverse=True)\n",
    "for name in names : \n",
    "    print (name)"
   ]
  },
  {
   "cell_type": "markdown",
   "metadata": {},
   "source": [
    "Exercise 4: Make names sorted alphabetically. Print out the list using while loop"
   ]
  },
  {
   "cell_type": "code",
   "execution_count": 26,
   "metadata": {},
   "outputs": [
    {
     "name": "stdout",
     "output_type": "stream",
     "text": [
      "Hannah\n",
      "James\n",
      "Sam\n",
      "Sarah\n",
      "Victor\n"
     ]
    }
   ],
   "source": [
    "names.sort()\n",
    "count = len(names)\n",
    "idx = 0\n",
    "while (idx < count):\n",
    "    print (names[idx])\n",
    "    idx = idx + 1"
   ]
  },
  {
   "cell_type": "markdown",
   "metadata": {},
   "source": [
    "Exercise 5: Pull out the fourth item from names and print it out"
   ]
  },
  {
   "cell_type": "code",
   "execution_count": 27,
   "metadata": {},
   "outputs": [
    {
     "name": "stdout",
     "output_type": "stream",
     "text": [
      "removing  Sarah\n"
     ]
    }
   ],
   "source": [
    "x = names[3]\n",
    "print (\"removing \", x) \n",
    "names.remove (x)"
   ]
  },
  {
   "cell_type": "markdown",
   "metadata": {},
   "source": [
    "Exercise 6: Pull out the first item from names and print it out"
   ]
  },
  {
   "cell_type": "code",
   "execution_count": 28,
   "metadata": {},
   "outputs": [
    {
     "name": "stdout",
     "output_type": "stream",
     "text": [
      "removing  Hannah  : \n"
     ]
    }
   ],
   "source": [
    "x = names[0]\n",
    "print (\"removing \", x, \" : \")\n",
    "names.remove (x)"
   ]
  },
  {
   "cell_type": "markdown",
   "metadata": {},
   "source": [
    "Exercise 7: Make a variable named fruits that contains a string \"Apples, Oranges, Bananas, Pineapples, Persimmons, Dragonfruit\" and make it into a list splitting it by the commas."
   ]
  },
  {
   "cell_type": "code",
   "execution_count": 29,
   "metadata": {},
   "outputs": [],
   "source": [
    "msg = \"Apples, Oranges, Bananas, Pineapples, Persimmons, Dragonfruit\"\n",
    "fruits = msg.split(',')\n"
   ]
  },
  {
   "cell_type": "markdown",
   "metadata": {},
   "source": [
    "Exercise 8: Create a list of the first 10 square numbers. i.e. the square of each integer from 1 to 10. "
   ]
  },
  {
   "cell_type": "code",
   "execution_count": 40,
   "metadata": {},
   "outputs": [],
   "source": [
    "squareList=[]\n",
    "# for loop & range()\n",
    "for x in range(1, 11) :\n",
    "    squareList.append(x*x)\n",
    " "
   ]
  },
  {
   "cell_type": "markdown",
   "metadata": {},
   "source": [
    "Exercise 9: Create a multiplication table from 1 to 10"
   ]
  },
  {
   "cell_type": "code",
   "execution_count": 142,
   "metadata": {},
   "outputs": [
    {
     "name": "stdout",
     "output_type": "stream",
     "text": [
      "     X     1     2     3     4     5     6     7     8     9    10    11    12\n",
      "     1     1     2     3     4     5     6     7     8     9    10    11    12\n",
      "     2     2     4     6     8    10    12    14    16    18    20    22    24\n",
      "     3     3     6     9    12    15    18    21    24    27    30    33    36\n",
      "     4     4     8    12    16    20    24    28    32    36    40    44    48\n",
      "     5     5    10    15    20    25    30    35    40    45    50    55    60\n",
      "     6     6    12    18    24    30    36    42    48    54    60    66    72\n",
      "     7     7    14    21    28    35    42    49    56    63    70    77    84\n",
      "     8     8    16    24    32    40    48    56    64    72    80    88    96\n",
      "     9     9    18    27    36    45    54    63    72    81    90    99   108\n",
      "    10    10    20    30    40    50    60    70    80    90   100   110   120\n"
     ]
    }
   ],
   "source": [
    "row = []\n",
    "for x in range (1, 11):\n",
    "    msg = \"\"\n",
    "    msg = msg + str(x).rjust(6)        # pad with leadig space \n",
    "    for y in range (1, 13):\n",
    "        msg = msg + str(x*y).rjust(6)  # pad with leadig space\n",
    "    row.append(msg) \n",
    "\n",
    "## print headline\n",
    "print (\"     X     1     2     3     4     5     6     7     8     9    10    11    12\")\n",
    "## print row\n",
    "for j in range(0, 10):\n",
    "         print(row[j])\n"
   ]
  },
  {
   "cell_type": "markdown",
   "metadata": {},
   "source": [
    "Exercise 10: Write a program that gets test scores from a user and then calculates and displays the average of the scores that have been enter. The output of the program should show the original scores and the average. "
   ]
  },
  {
   "cell_type": "code",
   "execution_count": 146,
   "metadata": {},
   "outputs": [
    {
     "name": "stdout",
     "output_type": "stream",
     "text": [
      "Enter a score: 1\n",
      "Continue? (y/n)y\n",
      "Enter a score: 2\n",
      "Continue? (y/n)y\n",
      "Enter a score: 3\n",
      "Continue? (y/n)y\n",
      "Enter a score: 4\n",
      "Continue? (y/n)y\n",
      "Enter a score: 5\n",
      "Continue? (y/n)n\n",
      "The average of the scores is:  3.0\n",
      "list of score:  [1, 2, 3, 4, 5]\n"
     ]
    }
   ],
   "source": [
    "score = [] \n",
    "cont = 'y'\n",
    "totScore=0\n",
    "numOfScore=0;\n",
    "avg=0\n",
    "\n",
    "while cont == 'y' :\n",
    "    s = int(input(\"Enter a score: \"))\n",
    "    score.append(s)\n",
    "    numOfScore = numOfScore + 1\n",
    "    \n",
    "    cont = input(\"Continue? (y/n)\")\n",
    "    \n",
    "for j in score:\n",
    "    totScore = totScore + j\n",
    "    \n",
    "avg =  totScore/numOfScore    \n",
    "\n",
    "print(\"The average of the scores is: \", avg)\n",
    "print(\"list of score: \", score)"
   ]
  },
  {
   "cell_type": "markdown",
   "metadata": {},
   "source": [
    "Challenge:\n",
    "Write a program that maintains a list of movies, and the user can list all the movies, add a movie to the list, or delete a movie from the list.\n",
    "\n",
    "Example\n",
    "\n",
    "###### COMMAND MENU\n",
    "```\n",
    "list - list all movies\n",
    "add - add a movie\n",
    "del - delete a movie\n",
    "exit - exit program \n",
    "```\n",
    "\n",
    "###### Command: list\n",
    "``` \n",
    " 1. Toy Story\n",
    " 2. Lion King\n",
    " 3. Frozen\n",
    " ```\n",
    "\n",
    "###### Command: add\n",
    " ```\n",
    " Name: Snow White\n",
    " Snow White was added.\n",
    " ```\n",
    "\n",
    "###### Command: del\n",
    "```\n",
    " Number: 3\n",
    " Frozen was deleted.```\n",
    "\n"
   ]
  },
  {
   "cell_type": "code",
   "execution_count": 169,
   "metadata": {},
   "outputs": [
    {
     "name": "stdout",
     "output_type": "stream",
     "text": [
      "1. list - list all movies\n",
      "2. add - add a movie \n",
      "3. del - delete a movie\n",
      "4. exit - exit program \n",
      "\n",
      "Choose one of the list:3\n",
      "Frozen was deleted.\n"
     ]
    }
   ],
   "source": [
    "print (\"1. list - list all movies\")\n",
    "print (\"2. add - add a movie \")\n",
    "print (\"3. del - delete a movie\") \n",
    "print (\"4. exit - exit program \\n\")\n",
    "\n",
    "\n",
    "movieList = [ \"Toy Story\", \"Lion King\",\"Frozen\"]\n",
    "choice = input (\"Choose one of the list:\")\n",
    "\n",
    "if (choice == '1'):    #  define the initial list\n",
    "    for k in movieList:\n",
    "        print (k);\n",
    "elif (choice == '2'):  # add a movie \n",
    "    movieList.append(\"Snow White\")\n",
    "    print (\"Snow White was added.\")\n",
    "elif (choice == '3'):  # delete a movie \n",
    "    movieList.remove(\"Frozen\")\n",
    "    print (\"Frozen was deleted.\")"
   ]
  },
  {
   "cell_type": "code",
   "execution_count": null,
   "metadata": {},
   "outputs": [],
   "source": []
  },
  {
   "cell_type": "code",
   "execution_count": null,
   "metadata": {},
   "outputs": [],
   "source": []
  }
 ],
 "metadata": {
  "kernelspec": {
   "display_name": "Python 3",
   "language": "python",
   "name": "python3"
  },
  "language_info": {
   "codemirror_mode": {
    "name": "ipython",
    "version": 3
   },
   "file_extension": ".py",
   "mimetype": "text/x-python",
   "name": "python",
   "nbconvert_exporter": "python",
   "pygments_lexer": "ipython3",
   "version": "3.8.8"
  }
 },
 "nbformat": 4,
 "nbformat_minor": 4
}
